{
 "cells": [
  {
   "cell_type": "markdown",
   "metadata": {},
   "source": [
    "# Constructing a principal graph\n",
    "The construction of a principal graph with a given topology is done via the specification of an appropriate initial conditions and of appropriate growth/shrink grammars. This can be done via the computeElasticPrincipalGraph.\n",
    "\n",
    "Specific wrapping functions are also provided to build commonly encountered topologies (`computeElasticPrincipalCurve`,\n",
    "\\ `computeElasticPrincipalTree`, `computeElasticPrincipalCircle`), with minimal required inputs. In all of these function, it is necessary to specify a numeric matrix with the data points (`X`) and the number of nodes to of the principal graph (`NumNodes`). It is possible to control the behavior of the algorithm via a set of optional parameters. For example, it is possible to:\n",
    "\n",
    "-    modify the parameter controlling the elastic energy (`Mu` and `Lambda`)\n",
    "\n",
    "Plotting of the PCA plot of the result is performed by (`PlotPG`), which do a PCA on the nodes and rotates the dataset."
   ]
  },
  {
   "cell_type": "markdown",
   "metadata": {},
   "source": [
    "# Examples of principal Curves"
   ]
  },
  {
   "cell_type": "code",
   "execution_count": 1,
   "metadata": {},
   "outputs": [],
   "source": [
    "import os\n",
    "import elpigraph\n",
    "from elpigraph import computeElasticPrincipalCurve\n",
    "from elpigraph import computeElasticPrincipalCircle\n",
    "from elpigraph import computeElasticPrincipalTree\n",
    "from elpigraph import PlotPG\n",
    "\n",
    "import numpy as np"
   ]
  },
  {
   "cell_type": "markdown",
   "metadata": {},
   "source": [
    "## Linear"
   ]
  },
  {
   "cell_type": "code",
   "execution_count": 2,
   "metadata": {},
   "outputs": [
    {
     "name": "stdout",
     "output_type": "stream",
     "text": [
      "Iteration:  1\nPerforming PCA on the data\nComputing EPG with  30  nodes on  500  points and  3  dimensions\nNODE:\n2 3 4 5 6 7 8 9 "
     ]
    },
    {
     "name": "stdout",
     "output_type": "stream",
     "text": [
      "10 11 "
     ]
    },
    {
     "name": "stdout",
     "output_type": "stream",
     "text": [
      "12 13 14 "
     ]
    },
    {
     "name": "stdout",
     "output_type": "stream",
     "text": [
      "15 16 "
     ]
    },
    {
     "name": "stdout",
     "output_type": "stream",
     "text": [
      "17 18 "
     ]
    },
    {
     "name": "stdout",
     "output_type": "stream",
     "text": [
      "19 20 "
     ]
    },
    {
     "name": "stdout",
     "output_type": "stream",
     "text": [
      "21 22 "
     ]
    },
    {
     "name": "stdout",
     "output_type": "stream",
     "text": [
      "23 "
     ]
    },
    {
     "name": "stdout",
     "output_type": "stream",
     "text": [
      "24 "
     ]
    },
    {
     "name": "stdout",
     "output_type": "stream",
     "text": [
      "25 "
     ]
    },
    {
     "name": "stdout",
     "output_type": "stream",
     "text": [
      "26 "
     ]
    },
    {
     "name": "stdout",
     "output_type": "stream",
     "text": [
      "27 "
     ]
    },
    {
     "name": "stdout",
     "output_type": "stream",
     "text": [
      "28 "
     ]
    },
    {
     "name": "stdout",
     "output_type": "stream",
     "text": [
      "29 "
     ]
    },
    {
     "name": "stdout",
     "output_type": "stream",
     "text": [
      "\nE= 0.13644819283295193 , MSE= 0.08961944950000085 , EP= 0.030790231304380217 , RP= 0.01603851202857085\nDone\n"
     ]
    }
   ],
   "source": [
    "curve_data = np.genfromtxt(os.path.join(elpigraph.__path__[0], 'data/curve_data.csv'), delimiter=',')\n",
    "\n",
    "EPCurve = computeElasticPrincipalCurve(curve_data, 30)"
   ]
  },
  {
   "cell_type": "code",
   "execution_count": 3,
   "metadata": {},
   "outputs": [
    {
     "name": "stdout",
     "output_type": "stream",
     "text": [
      "0\n"
     ]
    },
    {
     "data": {
      "image/png": "[encoded data removed]",
      "text/plain": [
       "<Figure size 432x288 with 1 Axes>"
      ]
     },
     "metadata": {},
     "output_type": "display_data"
    }
   ],
   "source": [
    "PlotPG(curve_data,EPCurve)"
   ]
  },
  {
   "cell_type": "markdown",
   "metadata": {},
   "source": [
    "## Circular"
   ]
  },
  {
   "cell_type": "code",
   "execution_count": 4,
   "metadata": {},
   "outputs": [
    {
     "name": "stdout",
     "output_type": "stream",
     "text": [
      "Iteration:  1\nPerforming PCA on the data\nComputing EPG with  30  nodes on  200  points and  3  dimensions\nNODE:\n4 5 6 7 8 9 10 "
     ]
    },
    {
     "name": "stdout",
     "output_type": "stream",
     "text": [
      "11 12 13 "
     ]
    },
    {
     "name": "stdout",
     "output_type": "stream",
     "text": [
      "14 15 "
     ]
    },
    {
     "name": "stdout",
     "output_type": "stream",
     "text": [
      "16 17 "
     ]
    },
    {
     "name": "stdout",
     "output_type": "stream",
     "text": [
      "18 19 "
     ]
    },
    {
     "name": "stdout",
     "output_type": "stream",
     "text": [
      "20 21 "
     ]
    },
    {
     "name": "stdout",
     "output_type": "stream",
     "text": [
      "22 "
     ]
    },
    {
     "name": "stdout",
     "output_type": "stream",
     "text": [
      "23 "
     ]
    },
    {
     "name": "stdout",
     "output_type": "stream",
     "text": [
      "24 "
     ]
    },
    {
     "name": "stdout",
     "output_type": "stream",
     "text": [
      "25 "
     ]
    },
    {
     "name": "stdout",
     "output_type": "stream",
     "text": [
      "26 "
     ]
    },
    {
     "name": "stdout",
     "output_type": "stream",
     "text": [
      "27 "
     ]
    },
    {
     "name": "stdout",
     "output_type": "stream",
     "text": [
      "28 "
     ]
    },
    {
     "name": "stdout",
     "output_type": "stream",
     "text": [
      "29 "
     ]
    },
    {
     "name": "stdout",
     "output_type": "stream",
     "text": [
      "\nE= 0.05049682365428171 , MSE= 0.033063379724278245 , EP= 0.014156055749004982 , RP= 0.0032773881809984797\nDone\n"
     ]
    }
   ],
   "source": [
    "circle_data = np.genfromtxt(os.path.join(elpigraph.__path__[0], 'data/circle_data.csv'), delimiter=',')\n",
    "\n",
    "EPCircle = computeElasticPrincipalCircle(circle_data, 30)"
   ]
  },
  {
   "cell_type": "code",
   "execution_count": 5,
   "metadata": {},
   "outputs": [
    {
     "name": "stdout",
     "output_type": "stream",
     "text": [
      "0\n"
     ]
    },
    {
     "data": {
      "image/png": "[encoded data removed]",
      "text/plain": [
       "<Figure size 432x288 with 1 Axes>"
      ]
     },
     "metadata": {},
     "output_type": "display_data"
    }
   ],
   "source": [
    "PlotPG(circle_data,EPCircle)"
   ]
  },
  {
   "cell_type": "markdown",
   "metadata": {
    "collapsed": true
   },
   "source": [
    "## Branching"
   ]
  },
  {
   "cell_type": "code",
   "execution_count": 6,
   "metadata": {},
   "outputs": [
    {
     "name": "stdout",
     "output_type": "stream",
     "text": [
      "Iteration:  1\nPerforming PCA on the data\nComputing EPG with  30  nodes on  492  points and  3  dimensions\nNODE:\n2 4 6 "
     ]
    },
    {
     "name": "stdout",
     "output_type": "stream",
     "text": [
      "8 "
     ]
    },
    {
     "name": "stdout",
     "output_type": "stream",
     "text": [
      "10 "
     ]
    },
    {
     "name": "stdout",
     "output_type": "stream",
     "text": [
      "12 "
     ]
    },
    {
     "name": "stdout",
     "output_type": "stream",
     "text": [
      "14 "
     ]
    },
    {
     "name": "stdout",
     "output_type": "stream",
     "text": [
      "16 "
     ]
    },
    {
     "name": "stdout",
     "output_type": "stream",
     "text": [
      "18 "
     ]
    },
    {
     "name": "stdout",
     "output_type": "stream",
     "text": [
      "20 "
     ]
    },
    {
     "name": "stdout",
     "output_type": "stream",
     "text": [
      "22 "
     ]
    },
    {
     "name": "stdout",
     "output_type": "stream",
     "text": [
      "24 "
     ]
    },
    {
     "name": "stdout",
     "output_type": "stream",
     "text": [
      "26 "
     ]
    },
    {
     "name": "stdout",
     "output_type": "stream",
     "text": [
      "28 "
     ]
    },
    {
     "name": "stdout",
     "output_type": "stream",
     "text": [
      "\nE= 0.01514859798022804 , MSE= 0.006204144383168515 , EP= 0.008585225592673957 , RP= 0.00035922800438556733\nDone\n"
     ]
    }
   ],
   "source": [
    "tree_data = np.genfromtxt(os.path.join(elpigraph.__path__[0], 'data/tree_data.csv'), delimiter=',')\n",
    "\n",
    "EPTree = computeElasticPrincipalTree(tree_data, 30)"
   ]
  },
  {
   "cell_type": "code",
   "execution_count": 7,
   "metadata": {},
   "outputs": [
    {
     "name": "stdout",
     "output_type": "stream",
     "text": [
      "0\n"
     ]
    },
    {
     "data": {
      "image/png": "[encoded data removed]",
      "text/plain": [
       "<Figure size 432x288 with 1 Axes>"
      ]
     },
     "metadata": {},
     "output_type": "display_data"
    }
   ],
   "source": [
    "PlotPG(tree_data,EPTree)"
   ]
  },
  {
   "cell_type": "markdown",
   "metadata": {},
   "source": [
    "# Bootstrapping\n",
    "All of the functions provided to build principal graphs allow a bootstrapped construction. To enable that it is sufficient to modify the parameters `nReps` and `ProbPoint`. `nReps` indicates the number of repetitions and `ProbPoint` indicates the probability to include a point in each of the repetition. When `nReps` is larger than 1, a final consensus principal graph will be constructed using the nodes of the graph derived in each repetition.\n",
    "\n",
    "As an example, let us perform bootstrapping on the circle data.\n"
   ]
  },
  {
   "cell_type": "code",
   "execution_count": 8,
   "metadata": {},
   "outputs": [
    {
     "name": "stdout",
     "output_type": "stream",
     "text": [
      "Iteration:  1\nPerforming PCA on the data\nComputing EPG with  20  nodes on  183  points and  3  dimensions\nNODE:\n4 5 6 7 8 9 10 "
     ]
    },
    {
     "name": "stdout",
     "output_type": "stream",
     "text": [
      "11 12 13 "
     ]
    },
    {
     "name": "stdout",
     "output_type": "stream",
     "text": [
      "14 15 "
     ]
    },
    {
     "name": "stdout",
     "output_type": "stream",
     "text": [
      "16 17 "
     ]
    },
    {
     "name": "stdout",
     "output_type": "stream",
     "text": [
      "18 19 "
     ]
    },
    {
     "name": "stdout",
     "output_type": "stream",
     "text": [
      "\nE= 0.06554139432591176 , MSE= 0.0381261190706784 , EP= 0.020071624392263402 , RP= 0.007343650862969955\nDone\nIteration:  2\nPerforming PCA on the data\nComputing EPG with  20  nodes on  182  points and  3  dimensions\nNODE:\n4 5 6 7 8 9 10 "
     ]
    },
    {
     "name": "stdout",
     "output_type": "stream",
     "text": [
      "11 12 13 "
     ]
    },
    {
     "name": "stdout",
     "output_type": "stream",
     "text": [
      "14 15 16 "
     ]
    },
    {
     "name": "stdout",
     "output_type": "stream",
     "text": [
      "17 18 "
     ]
    },
    {
     "name": "stdout",
     "output_type": "stream",
     "text": [
      "19 \nE= 0.06595970630788514 , MSE= 0.039086720430928354 , EP= 0.019684336921338894 , RP= 0.007188648955617902\nDone\nIteration:  3\nPerforming PCA on the data\nComputing EPG with  20  nodes on  186  points and  3  dimensions\nNODE:\n4 5 6 "
     ]
    },
    {
     "name": "stdout",
     "output_type": "stream",
     "text": [
      "7 8 9 10 11 "
     ]
    },
    {
     "name": "stdout",
     "output_type": "stream",
     "text": [
      "12 13 14 "
     ]
    },
    {
     "name": "stdout",
     "output_type": "stream",
     "text": [
      "15 16 "
     ]
    },
    {
     "name": "stdout",
     "output_type": "stream",
     "text": [
      "17 18 "
     ]
    },
    {
     "name": "stdout",
     "output_type": "stream",
     "text": [
      "19 \nE= 0.064275712208229 , MSE= 0.037486868838208204 , EP= 0.019735443016848417 , RP= 0.007053400353172387\nDone\nIteration:  4\nPerforming PCA on the data\nComputing EPG with  20  nodes on  177  points and  3  dimensions\nNODE:\n4 5 6 "
     ]
    },
    {
     "name": "stdout",
     "output_type": "stream",
     "text": [
      "7 8 9 10 11 "
     ]
    },
    {
     "name": "stdout",
     "output_type": "stream",
     "text": [
      "12 13 14 "
     ]
    },
    {
     "name": "stdout",
     "output_type": "stream",
     "text": [
      "15 16 "
     ]
    },
    {
     "name": "stdout",
     "output_type": "stream",
     "text": [
      "17 18 "
     ]
    },
    {
     "name": "stdout",
     "output_type": "stream",
     "text": [
      "19 \nE= 0.06415932483349916 , MSE= 0.036882795586112294 , EP= 0.02011749690740171 , RP= 0.007159032339985163\nDone\nIteration:  5\nPerforming PCA on the data\nComputing EPG with  20  nodes on  175  points and  3  dimensions\nNODE:\n4 5 "
     ]
    },
    {
     "name": "stdout",
     "output_type": "stream",
     "text": [
      "6 7 8 9 10 11 "
     ]
    },
    {
     "name": "stdout",
     "output_type": "stream",
     "text": [
      "12 13 14 "
     ]
    },
    {
     "name": "stdout",
     "output_type": "stream",
     "text": [
      "15 16 "
     ]
    },
    {
     "name": "stdout",
     "output_type": "stream",
     "text": [
      "17 18 "
     ]
    },
    {
     "name": "stdout",
     "output_type": "stream",
     "text": [
      "19 \nE= 0.06406915288486374 , MSE= 0.0373612318665682 , EP= 0.019668140637929148 , RP= 0.007039780380366393\nDone\nIteration:  6\nPerforming PCA on the data\nComputing EPG with  20  nodes on  178  points and  3  dimensions\nNODE:\n4 5 6 "
     ]
    },
    {
     "name": "stdout",
     "output_type": "stream",
     "text": [
      "7 8 9 10 11 "
     ]
    },
    {
     "name": "stdout",
     "output_type": "stream",
     "text": [
      "12 13 14 "
     ]
    },
    {
     "name": "stdout",
     "output_type": "stream",
     "text": [
      "15 16 "
     ]
    },
    {
     "name": "stdout",
     "output_type": "stream",
     "text": [
      "17 18 "
     ]
    },
    {
     "name": "stdout",
     "output_type": "stream",
     "text": [
      "19 \nE= 0.06445241016729061 , MSE= 0.03765335914857725 , EP= 0.01986710658176529 , RP= 0.006931944436948073\nDone\nIteration:  7\nPerforming PCA on the data\nComputing EPG with  20  nodes on  178  points and  3  dimensions\nNODE:\n4 5 "
     ]
    },
    {
     "name": "stdout",
     "output_type": "stream",
     "text": [
      "6 7 8 9 10 11 "
     ]
    },
    {
     "name": "stdout",
     "output_type": "stream",
     "text": [
      "12 13 14 "
     ]
    },
    {
     "name": "stdout",
     "output_type": "stream",
     "text": [
      "15 16 "
     ]
    },
    {
     "name": "stdout",
     "output_type": "stream",
     "text": [
      "17 18 "
     ]
    },
    {
     "name": "stdout",
     "output_type": "stream",
     "text": [
      "19 \nE= 0.06487033164981558 , MSE= 0.03844968315447346 , EP= 0.019588396881549626 , RP= 0.006832251613792489\nDone\nIteration:  8\nPerforming PCA on the data\nComputing EPG with  20  nodes on  180  points and  3  dimensions\nNODE:\n4 "
     ]
    },
    {
     "name": "stdout",
     "output_type": "stream",
     "text": [
      "5 6 7 8 9 10 "
     ]
    },
    {
     "name": "stdout",
     "output_type": "stream",
     "text": [
      "11 12 13 "
     ]
    },
    {
     "name": "stdout",
     "output_type": "stream",
     "text": [
      "14 15 16 "
     ]
    },
    {
     "name": "stdout",
     "output_type": "stream",
     "text": [
      "17 18 "
     ]
    },
    {
     "name": "stdout",
     "output_type": "stream",
     "text": [
      "19 \nE= 0.06621551713845872 , MSE= 0.039381486199574475 , EP= 0.01988513807034539 , RP= 0.006948892868538844\nDone\nIteration:  9\nPerforming PCA on the data\nComputing EPG with  20  nodes on  180  points and  3  dimensions\nNODE:\n4 5 6 "
     ]
    },
    {
     "name": "stdout",
     "output_type": "stream",
     "text": [
      "7 8 9 10 11 "
     ]
    },
    {
     "name": "stdout",
     "output_type": "stream",
     "text": [
      "12 13 14 "
     ]
    },
    {
     "name": "stdout",
     "output_type": "stream",
     "text": [
      "15 16 "
     ]
    },
    {
     "name": "stdout",
     "output_type": "stream",
     "text": [
      "17 18 "
     ]
    },
    {
     "name": "stdout",
     "output_type": "stream",
     "text": [
      "19 \nE= 0.0672390062279478 , MSE= 0.03968674667271323 , EP= 0.01985692263257015 , RP= 0.0076953369226644254\nDone\nIteration:  10\nPerforming PCA on the data\nComputing EPG with  20  nodes on  177  points and  3  dimensions\nNODE:\n4 5 6 "
     ]
    },
    {
     "name": "stdout",
     "output_type": "stream",
     "text": [
      "7 8 9 10 11 "
     ]
    },
    {
     "name": "stdout",
     "output_type": "stream",
     "text": [
      "12 13 14 "
     ]
    },
    {
     "name": "stdout",
     "output_type": "stream",
     "text": [
      "15 16 "
     ]
    },
    {
     "name": "stdout",
     "output_type": "stream",
     "text": [
      "17 18 "
     ]
    },
    {
     "name": "stdout",
     "output_type": "stream",
     "text": [
      "19 \nE= 0.06642480258976828 , MSE= 0.03892292758431708 , EP= 0.020042561155363927 , RP= 0.007459313850087278\nDone\nConstructing average graph\nPerforming PCA on all computed nodes\nComputing EPG with  20  nodes on  220  points and  3  dimensions\nNODE:\n4 5 6 "
     ]
    },
    {
     "name": "stdout",
     "output_type": "stream",
     "text": [
      "7 8 9 10 11 "
     ]
    },
    {
     "name": "stdout",
     "output_type": "stream",
     "text": [
      "12 13 14 "
     ]
    },
    {
     "name": "stdout",
     "output_type": "stream",
     "text": [
      "15 16 "
     ]
    },
    {
     "name": "stdout",
     "output_type": "stream",
     "text": [
      "17 18 "
     ]
    },
    {
     "name": "stdout",
     "output_type": "stream",
     "text": [
      "19 \nE= 0.030555169610276645 , MSE= 0.0055555186700711745 , EP= 0.018700670125286145 , RP= 0.006298980814919325\nDone\n"
     ]
    }
   ],
   "source": [
    "EPCircle_boot = computeElasticPrincipalCircle(circle_data,20,nReps=10,ProbPoints=0.9)"
   ]
  },
  {
   "cell_type": "code",
   "execution_count": 9,
   "metadata": {},
   "outputs": [
    {
     "name": "stdout",
     "output_type": "stream",
     "text": [
      "10\n"
     ]
    },
    {
     "data": {
      "image/png": "[encoded data removed]",
      "text/plain": [
       "<Figure size 432x288 with 1 Axes>"
      ]
     },
     "metadata": {},
     "output_type": "display_data"
    }
   ],
   "source": [
    "PlotPG(circle_data,EPCircle_boot)"
   ]
  },
  {
   "cell_type": "code",
   "execution_count": null,
   "metadata": {},
   "outputs": [],
   "source": []
  }
 ],
 "metadata": {
  "kernelspec": {
   "display_name": "Python 3",
   "language": "python",
   "name": "python3"
  },
  "language_info": {
   "codemirror_mode": {
    "name": "ipython",
    "version": 3
   },
   "file_extension": ".py",
   "mimetype": "text/x-python",
   "name": "python",
   "nbconvert_exporter": "python",
   "pygments_lexer": "ipython3",
   "version": "3.6.4"
  }
 },
 "nbformat": 4,
 "nbformat_minor": 2
}
